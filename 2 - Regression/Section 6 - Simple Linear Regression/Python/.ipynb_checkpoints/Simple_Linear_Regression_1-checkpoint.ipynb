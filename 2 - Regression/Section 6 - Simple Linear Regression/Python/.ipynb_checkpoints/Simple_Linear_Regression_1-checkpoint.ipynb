{
 "cells": [
  {
   "cell_type": "markdown",
   "metadata": {},
   "source": [
    "# Simple linear regression\n",
    "Regression analysis consist of a set of ML methods that allow us to predict continuous outcome variable (y) based on the value of one or multiple predictor variables (x).\n",
    "The goal of regression model is to build a mathematical equation that defines y as a function of the x variables. The resulting equation can be used to predict the outcome (y) for new values of the predictor variables (x).\n",
    "This model assumes a lineal relationship between the outcome and the income values.  \n",
    "$$y = a_1x_1 + a_2x_2 + \\ldots + a_nx_n$$"
   ]
  },
  {
   "cell_type": "markdown",
   "metadata": {},
   "source": [
    "### Libraries"
   ]
  },
  {
   "cell_type": "code",
   "execution_count": 105,
   "metadata": {},
   "outputs": [],
   "source": [
    "#Libraries\n",
    "import numpy as np\n",
    "import pandas as pd\n",
    "import matplotlib.pyplot as plt\n",
    "from prettytable import PrettyTable"
   ]
  },
  {
   "cell_type": "markdown",
   "metadata": {},
   "source": [
    "### Dataset"
   ]
  },
  {
   "cell_type": "code",
   "execution_count": 106,
   "metadata": {},
   "outputs": [
    {
     "data": {
      "text/html": [
       "<div>\n",
       "<style scoped>\n",
       "    .dataframe tbody tr th:only-of-type {\n",
       "        vertical-align: middle;\n",
       "    }\n",
       "\n",
       "    .dataframe tbody tr th {\n",
       "        vertical-align: top;\n",
       "    }\n",
       "\n",
       "    .dataframe thead th {\n",
       "        text-align: right;\n",
       "    }\n",
       "</style>\n",
       "<table border=\"1\" class=\"dataframe\">\n",
       "  <thead>\n",
       "    <tr style=\"text-align: right;\">\n",
       "      <th></th>\n",
       "      <th>YearsExperience</th>\n",
       "      <th>Salary</th>\n",
       "    </tr>\n",
       "  </thead>\n",
       "  <tbody>\n",
       "    <tr>\n",
       "      <th>0</th>\n",
       "      <td>1.1</td>\n",
       "      <td>39343.0</td>\n",
       "    </tr>\n",
       "    <tr>\n",
       "      <th>1</th>\n",
       "      <td>1.3</td>\n",
       "      <td>46205.0</td>\n",
       "    </tr>\n",
       "    <tr>\n",
       "      <th>2</th>\n",
       "      <td>1.5</td>\n",
       "      <td>37731.0</td>\n",
       "    </tr>\n",
       "    <tr>\n",
       "      <th>3</th>\n",
       "      <td>2.0</td>\n",
       "      <td>43525.0</td>\n",
       "    </tr>\n",
       "    <tr>\n",
       "      <th>4</th>\n",
       "      <td>2.2</td>\n",
       "      <td>39891.0</td>\n",
       "    </tr>\n",
       "  </tbody>\n",
       "</table>\n",
       "</div>"
      ],
      "text/plain": [
       "   YearsExperience   Salary\n",
       "0              1.1  39343.0\n",
       "1              1.3  46205.0\n",
       "2              1.5  37731.0\n",
       "3              2.0  43525.0\n",
       "4              2.2  39891.0"
      ]
     },
     "execution_count": 106,
     "metadata": {},
     "output_type": "execute_result"
    }
   ],
   "source": [
    "# Importing the dataset we are working with\n",
    "dataset = pd.read_csv('Salary_Data.csv')\n",
    "dataset.head()"
   ]
  },
  {
   "cell_type": "markdown",
   "metadata": {},
   "source": [
    "### Split the dataset"
   ]
  },
  {
   "cell_type": "code",
   "execution_count": 107,
   "metadata": {},
   "outputs": [
    {
     "name": "stdout",
     "output_type": "stream",
     "text": [
      "+-----------------+----------+\n",
      "| YearsExperience |  Salary  |\n",
      "+-----------------+----------+\n",
      "|       1.1       | 39343.0  |\n",
      "|       1.3       | 46205.0  |\n",
      "|       1.5       | 37731.0  |\n",
      "|       2.0       | 43525.0  |\n",
      "|       2.2       | 39891.0  |\n",
      "|       2.9       | 56642.0  |\n",
      "|       3.0       | 60150.0  |\n",
      "|       3.2       | 54445.0  |\n",
      "|       3.2       | 64445.0  |\n",
      "|       3.7       | 57189.0  |\n",
      "|       3.9       | 63218.0  |\n",
      "|       4.0       | 55794.0  |\n",
      "|       4.0       | 56957.0  |\n",
      "|       4.1       | 57081.0  |\n",
      "|       4.5       | 61111.0  |\n",
      "|       4.9       | 67938.0  |\n",
      "|       5.1       | 66029.0  |\n",
      "|       5.3       | 83088.0  |\n",
      "|       5.9       | 81363.0  |\n",
      "|       6.0       | 93940.0  |\n",
      "|       6.8       | 91738.0  |\n",
      "|       7.1       | 98273.0  |\n",
      "|       7.9       | 101302.0 |\n",
      "|       8.2       | 113812.0 |\n",
      "|       8.7       | 109431.0 |\n",
      "|       9.0       | 105582.0 |\n",
      "|       9.5       | 116969.0 |\n",
      "|       9.6       | 112635.0 |\n",
      "|       10.3      | 122391.0 |\n",
      "|       10.5      | 121872.0 |\n",
      "+-----------------+----------+\n"
     ]
    },
    {
     "data": {
      "text/plain": [
       "<prettytable.PrettyTable at 0x7f53d46294f0>"
      ]
     },
     "execution_count": 107,
     "metadata": {},
     "output_type": "execute_result"
    }
   ],
   "source": [
    "# Este método permite tabular los dataframes\n",
    "def generate_ascii_table(df):\n",
    "    x = PrettyTable()\n",
    "    x.field_names = df.columns.tolist()\n",
    "    for row in df.values:\n",
    "        x.add_row(row)\n",
    "    print(x)\n",
    "    return x\n",
    "generate_ascii_table(dataset)"
   ]
  },
  {
   "cell_type": "code",
   "execution_count": 108,
   "metadata": {},
   "outputs": [
    {
     "name": "stdout",
     "output_type": "stream",
     "text": [
      "[[ 1.1]\n",
      " [ 1.3]\n",
      " [ 1.5]\n",
      " [ 2. ]\n",
      " [ 2.2]\n",
      " [ 2.9]\n",
      " [ 3. ]\n",
      " [ 3.2]\n",
      " [ 3.2]\n",
      " [ 3.7]\n",
      " [ 3.9]\n",
      " [ 4. ]\n",
      " [ 4. ]\n",
      " [ 4.1]\n",
      " [ 4.5]\n",
      " [ 4.9]\n",
      " [ 5.1]\n",
      " [ 5.3]\n",
      " [ 5.9]\n",
      " [ 6. ]\n",
      " [ 6.8]\n",
      " [ 7.1]\n",
      " [ 7.9]\n",
      " [ 8.2]\n",
      " [ 8.7]\n",
      " [ 9. ]\n",
      " [ 9.5]\n",
      " [ 9.6]\n",
      " [10.3]\n",
      " [10.5]]\n",
      "\n",
      " [ 39343.  46205.  37731.  43525.  39891.  56642.  60150.  54445.  64445.\n",
      "  57189.  63218.  55794.  56957.  57081.  61111.  67938.  66029.  83088.\n",
      "  81363.  93940.  91738.  98273. 101302. 113812. 109431. 105582. 116969.\n",
      " 112635. 122391. 121872.]\n"
     ]
    }
   ],
   "source": [
    "# Here we split the dataset in features (x) and the depending variable (y)\n",
    "x = dataset.iloc[:,:-1].values   # shape = (30,1)\n",
    "y = dataset.iloc[:,-1].values    # shape = (30)\n",
    "print(x)\n",
    "print('\\n', y)"
   ]
  },
  {
   "cell_type": "code",
   "execution_count": 109,
   "metadata": {},
   "outputs": [],
   "source": [
    "# Since we don't have neither, missing data or categorical data, we go directly to split our dataset into training and test set.\n",
    "from sklearn.model_selection import train_test_split\n",
    "# The recommended percentage of data in training set is 80% and the remaining 20% for the test set.\n",
    "x_train, x_test, y_train, y_test = train_test_split(x, y, test_size = 0.2, random_state = 0)"
   ]
  },
  {
   "cell_type": "markdown",
   "metadata": {},
   "source": [
    "### Training the SLR model on the training set"
   ]
  },
  {
   "cell_type": "code",
   "execution_count": 110,
   "metadata": {},
   "outputs": [],
   "source": [
    "# import the libraries and instantiate an object\n",
    "from sklearn.linear_model import LinearRegression\n",
    "regressor = LinearRegression()"
   ]
  },
  {
   "cell_type": "code",
   "execution_count": 111,
   "metadata": {},
   "outputs": [
    {
     "data": {
      "text/plain": [
       "LinearRegression()"
      ]
     },
     "execution_count": 111,
     "metadata": {},
     "output_type": "execute_result"
    }
   ],
   "source": [
    "# here we fit our linear model\n",
    "regressor.fit(x_train,y_train)"
   ]
  },
  {
   "cell_type": "markdown",
   "metadata": {},
   "source": [
    "### Predicting the test results"
   ]
  },
  {
   "cell_type": "code",
   "execution_count": 112,
   "metadata": {},
   "outputs": [],
   "source": [
    "# y_pred contains the predicted values of y (y_test contains the actual values of y)\n",
    "y_pred = regressor.predict(x_test)"
   ]
  },
  {
   "cell_type": "markdown",
   "metadata": {},
   "source": [
    "### Visualizing the training test results"
   ]
  },
  {
   "cell_type": "code",
   "execution_count": 113,
   "metadata": {},
   "outputs": [
    {
     "data": {
      "image/png": "[encoded data removed]",
      "text/plain": [
       "<Figure size 432x288 with 1 Axes>"
      ]
     },
     "metadata": {},
     "output_type": "display_data"
    }
   ],
   "source": [
    "# scatter chart\n",
    "plt.scatter(x_train, y_train, color = 'blue')\n",
    "# chart with the predicted values\n",
    "plt.plot(x_train, regressor.predict(x_train), color = 'red')\n",
    "plt.title('Salary vs Experience (training set)', color = 'blue')\n",
    "plt.xlabel('Years of experience', color = 'blue')\n",
    "plt.ylabel('Salary', color = 'blue')\n",
    "plt.rc_context({'xtick.color':'black','figure.facecolor':'white'})\n",
    "plt.show()"
   ]
  },
  {
   "cell_type": "markdown",
   "metadata": {},
   "source": [
    "The blue points are our train values since the straight red line is the regression, or in other words, our prediction.\n",
    "We can see that the line goes across the scattered points, pretty near them."
   ]
  },
  {
   "cell_type": "markdown",
   "metadata": {},
   "source": [
    "### Visualizing the test set results"
   ]
  },
  {
   "cell_type": "code",
   "execution_count": 114,
   "metadata": {},
   "outputs": [
    {
     "data": {
      "image/png": "[encoded data removed]",
      "text/plain": [
       "<Figure size 432x288 with 1 Axes>"
      ]
     },
     "metadata": {},
     "output_type": "display_data"
    }
   ],
   "source": [
    "# scatter chart\n",
    "plt.scatter(x_test, y_test, color = 'blue')\n",
    "# chart with the predicted values\n",
    "plt.plot(x_train, regressor.predict(x_train), color = 'red')    # we need the same regression line for the train and the test results\n",
    "plt.title('Salary vs Experience (training set)', color = 'red')\n",
    "plt.xlabel('Years of experience', color = 'red')\n",
    "plt.ylabel('Salary', color = 'red')\n",
    "plt.rc_context({'xtick.color':'black','figure.facecolor':'white'})\n",
    "plt.show()"
   ]
  },
  {
   "cell_type": "markdown",
   "metadata": {},
   "source": [
    "Here we have the same straight line that we had before with the training values, but this time with the testing values. We can see that blue points are very near the red line, what means that our regression works very well for this case."
   ]
  },
  {
   "cell_type": "code",
   "execution_count": null,
   "metadata": {},
   "outputs": [],
   "source": []
  }
 ],
 "metadata": {
  "kernelspec": {
   "display_name": "Python 3",
   "language": "python",
   "name": "python3"
  },
  "language_info": {
   "codemirror_mode": {
    "name": "ipython",
    "version": 3
   },
   "file_extension": ".py",
   "mimetype": "text/x-python",
   "name": "python",
   "nbconvert_exporter": "python",
   "pygments_lexer": "ipython3",
   "version": "3.8.3"
  }
 },
 "nbformat": 4,
 "nbformat_minor": 4
}
