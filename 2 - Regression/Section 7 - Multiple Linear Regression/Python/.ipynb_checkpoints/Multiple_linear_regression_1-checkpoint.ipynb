{
 "cells": [
  {
   "cell_type": "markdown",
   "metadata": {},
   "source": [
    "# Multiple Linear Regression (MLR)\n",
    "This method uses multiple exploratory variables (x values) to predict the outcomes (y values). In short, is the extension of the SLR method for two or more independents variables.\n",
    "One thing to keep in mind is that there are some assumptions of a LR model:\n",
    "- Linearity\n",
    "- Homoscedasticity (refers to a condition in which the variance of the residual, or error term, in a regression model is constant. That is, the error term does not vary much as the value of the predictor variable changes)\n",
    "- Multivariate normality\n",
    "- Independence of errors\n",
    "- Lack of multicollinearity"
   ]
  },
  {
   "cell_type": "markdown",
   "metadata": {},
   "source": [
    "Variables: R&D Spend, Admin, Marketing, State, Profit\n",
    "Independent variables: R&D Spend, Admin, Marketing, State\n",
    "Dependent variables: Profit\n",
    "    $$y = b_0 + b_1*x_1 + b_2*x_2 + b_3*x_3$$\n",
    "    \n",
    "$$ b_0 --> constant $$\n",
    "$$ b_1*x_1 --> R&DSpend $$\n",
    "$$ b_2*x_2 --> Admin $$\n",
    "$$ b_3*x_3 --> Marketing $$\n",
    "\n",
    "For the categorical variables, we transform those values to dummy values, in order to include this variables in a numerical model.\n",
    "### Statistical significance\n",
    "When we are working with a sample of a determined population, if the p-value of an observed effect is less than (or equal to) the significance level, an investigator may conclude that the effect reflects the characteristics of the whole population, thereby rejecting the null hypothesis.\n",
    "Statistical significance plays a pivotal role in statistical hypothesis testing. It is used to determine whether the null hypothesis should be rejected or retained."
   ]
  },
  {
   "cell_type": "markdown",
   "metadata": {},
   "source": [
    "### Building the model\n",
    "Methods:\n",
    "#### 1 - All in\n",
    "\n",
    "    - When you have a prior knowledge about what predictors are better for the model\n",
    "    - When you have to use all of them for any reason\n",
    "    - When you are preparing for Backward Elimination\n",
    "#### 2 - Backward elimination\n",
    "\n",
    "    - step 1: select a significance level\n",
    "    - step 2: fit the full model with all posible predictors\n",
    "    - step 3: consider the predictor with the highest p-value. If p>SL then go to step 4, if not, go to fin.\n",
    "    - step 4: remove that predictor with the highest p-value\n",
    "    - step 5: re-fit the model without this variable\n",
    "#### 3 - Forward selection\n",
    "\n",
    "    - step 1: select a significance level\n",
    "    - step 2: fit all simple regression models y = x_n and select the one with the lowest p-value\n",
    "    - step 3: Keep this variable and fit all possible models with one extra predictor added to the one(s) you already have.\n",
    "    - step 4: Consider the predictor with the lowest p-value. If p<SL, go to step 3, otherwise go to fin (we keep the previous model, before p<SL)\n",
    "#### 4 - Bidirectional elimination\n",
    "\n",
    "    - Combines the backward and forward methods.\n",
    "    - step 1: Select a SL to enter and to stay in the model. e.g.: SL-ENTER = 0.05 and SL-STAY = 0.05\n",
    "    - step 2: Perform the next step of forward selection (new variables must have p<SL-ENTER to enter)\n",
    "    - step 3: Perform all steps of backward elimination (old variables must have p<SL-STAY to stay)\n",
    "    - step 4: now new variables can enter and no old variables can exit. Fin: the model is ready\n",
    "#### 5 - Score comparison\n",
    "\n",
    "    - step 1: select a criterion of goodness of fit (eg Akaike criterion)\n",
    "    - step 2: construct all posible regression models: $$2-n - 1$$ total combinators\n",
    "    - step 3: select the one with the best criterion. Then your model is ready\n",
    "    eg: 10 columns, means 1023 models"
   ]
  },
  {
   "cell_type": "code",
   "execution_count": null,
   "metadata": {},
   "outputs": [],
   "source": []
  }
 ],
 "metadata": {
  "kernelspec": {
   "display_name": "Python 3",
   "language": "python",
   "name": "python3"
  },
  "language_info": {
   "codemirror_mode": {
    "name": "ipython",
    "version": 3
   },
   "file_extension": ".py",
   "mimetype": "text/x-python",
   "name": "python",
   "nbconvert_exporter": "python",
   "pygments_lexer": "ipython3",
   "version": "3.8.3"
  }
 },
 "nbformat": 4,
 "nbformat_minor": 4
}
