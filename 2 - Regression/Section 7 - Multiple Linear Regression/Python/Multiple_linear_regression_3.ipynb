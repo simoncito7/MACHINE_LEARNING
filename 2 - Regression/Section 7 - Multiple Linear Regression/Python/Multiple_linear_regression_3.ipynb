{
 "cells": [
  {
   "cell_type": "markdown",
   "metadata": {},
   "source": [
    "# Multiple Linear Regression (MLR)\n",
    "This method uses multiple exploratory variables (x values) to predict the outcomes (y values). In short, is the extension of the SLR method for two or more independents variables.\n",
    "One thing to keep in mind is that there are some assumptions of a LR model:\n",
    "- Linearity\n",
    "- Homoscedasticity (refers to a condition in which the variance of the residual, or error term, in a regression model is constant. That is, the error term does not vary much as the value of the predictor variable changes)\n",
    "- Multivariate normality\n",
    "- Independence of errors\n",
    "- Lack of multicollinearity"
   ]
  },
  {
   "cell_type": "markdown",
   "metadata": {},
   "source": [
    "- Variables: R&D Spend, Admin, Marketing, State, Profit\n",
    "- Independent variables: R&D Spend, Admin, Marketing, State\n",
    "- Dependent variables: Profit\n",
    "    $$y = b_0 + b_1*x_1 + b_2*x_2 + b_3*x_3$$\n",
    "    \n",
    "$$ b_0 --> constant $$\n",
    "$$ b_1*x_1 --> R and D Spend $$\n",
    "$$ b_2*x_2 --> Admin $$\n",
    "$$ b_3*x_3 --> Marketing $$\n",
    "\n",
    "For the categorical variables, we transform those values to dummy values, in order to include this variables in a numerical model.\n",
    "### Statistical significance\n",
    "When we are working with a sample of a determined population, if the p-value of an observed effect is less than (or equal to) the significance level, an investigator may conclude that the effect reflects the characteristics of the whole population, thereby rejecting the null hypothesis.\n",
    "Statistical significance plays a pivotal role in statistical hypothesis testing. It is used to determine whether the null hypothesis should be rejected or retained."
   ]
  },
  {
   "cell_type": "markdown",
   "metadata": {},
   "source": [
    "### Building the model\n",
    "Methods:\n",
    "#### 1 - All in\n",
    "\n",
    "    - When you have a prior knowledge about what predictors are better for the model\n",
    "    - When you have to use all of them for any reason\n",
    "    - When you are preparing for Backward Elimination\n",
    "#### 2 - Backward elimination\n",
    "\n",
    "    - step 1: select a significance level\n",
    "    - step 2: fit the full model with all posible predictors\n",
    "    - step 3: consider the predictor with the highest p-value. If p>SL then go to step 4, if not, go to fin.\n",
    "    - step 4: remove that predictor with the highest p-value\n",
    "    - step 5: re-fit the model without this variable\n",
    "#### 3 - Forward selection\n",
    "\n",
    "    - step 1: select a significance level\n",
    "    - step 2: fit all simple regression models y = x_n and select the one with the lowest p-value\n",
    "    - step 3: Keep this variable and fit all possible models with one extra predictor added to the one(s) you already have.\n",
    "    - step 4: Consider the predictor with the lowest p-value. If p<SL, go to step 3, otherwise go to fin (we keep the previous model, before p<SL)\n",
    "#### 4 - Bidirectional elimination\n",
    "\n",
    "    - Combines the backward and forward methods.\n",
    "    - step 1: Select a SL to enter and to stay in the model. e.g.: SL-ENTER = 0.05 and SL-STAY = 0.05\n",
    "    - step 2: Perform the next step of forward selection (new variables must have p<SL-ENTER to enter)\n",
    "    - step 3: Perform all steps of backward elimination (old variables must have p<SL-STAY to stay)\n",
    "    - step 4: now new variables can enter and no old variables can exit. Fin: the model is ready\n",
    "#### 5 - Score comparison\n",
    "\n",
    "    - step 1: select a criterion of goodness of fit (eg Akaike criterion)\n",
    "    - step 2: construct all posible regression models: $$2-n - 1$$ total combinators\n",
    "    - step 3: select the one with the best criterion. Then your model is ready\n",
    "    eg: 10 columns, means 1023 models"
   ]
  },
  {
   "cell_type": "markdown",
   "metadata": {},
   "source": [
    "### Importing the data and preprocessing step "
   ]
  },
  {
   "cell_type": "code",
   "execution_count": 34,
   "metadata": {},
   "outputs": [],
   "source": [
    "# import the libraries\n",
    "import numpy as np\n",
    "import matplotlib.pyplot as plt\n",
    "import pandas as pd\n",
    "from prettytable import PrettyTable"
   ]
  },
  {
   "cell_type": "code",
   "execution_count": 35,
   "metadata": {},
   "outputs": [
    {
     "data": {
      "text/html": [
       "<div>\n",
       "<style scoped>\n",
       "    .dataframe tbody tr th:only-of-type {\n",
       "        vertical-align: middle;\n",
       "    }\n",
       "\n",
       "    .dataframe tbody tr th {\n",
       "        vertical-align: top;\n",
       "    }\n",
       "\n",
       "    .dataframe thead th {\n",
       "        text-align: right;\n",
       "    }\n",
       "</style>\n",
       "<table border=\"1\" class=\"dataframe\">\n",
       "  <thead>\n",
       "    <tr style=\"text-align: right;\">\n",
       "      <th></th>\n",
       "      <th>R&amp;D Spend</th>\n",
       "      <th>Administration</th>\n",
       "      <th>Marketing Spend</th>\n",
       "      <th>State</th>\n",
       "      <th>Profit</th>\n",
       "    </tr>\n",
       "  </thead>\n",
       "  <tbody>\n",
       "    <tr>\n",
       "      <th>0</th>\n",
       "      <td>165349.20</td>\n",
       "      <td>136897.80</td>\n",
       "      <td>471784.10</td>\n",
       "      <td>New York</td>\n",
       "      <td>192261.83</td>\n",
       "    </tr>\n",
       "    <tr>\n",
       "      <th>1</th>\n",
       "      <td>162597.70</td>\n",
       "      <td>151377.59</td>\n",
       "      <td>443898.53</td>\n",
       "      <td>California</td>\n",
       "      <td>191792.06</td>\n",
       "    </tr>\n",
       "    <tr>\n",
       "      <th>2</th>\n",
       "      <td>153441.51</td>\n",
       "      <td>101145.55</td>\n",
       "      <td>407934.54</td>\n",
       "      <td>Florida</td>\n",
       "      <td>191050.39</td>\n",
       "    </tr>\n",
       "    <tr>\n",
       "      <th>3</th>\n",
       "      <td>144372.41</td>\n",
       "      <td>118671.85</td>\n",
       "      <td>383199.62</td>\n",
       "      <td>New York</td>\n",
       "      <td>182901.99</td>\n",
       "    </tr>\n",
       "    <tr>\n",
       "      <th>4</th>\n",
       "      <td>142107.34</td>\n",
       "      <td>91391.77</td>\n",
       "      <td>366168.42</td>\n",
       "      <td>Florida</td>\n",
       "      <td>166187.94</td>\n",
       "    </tr>\n",
       "  </tbody>\n",
       "</table>\n",
       "</div>"
      ],
      "text/plain": [
       "   R&D Spend  Administration  Marketing Spend       State     Profit\n",
       "0  165349.20       136897.80        471784.10    New York  192261.83\n",
       "1  162597.70       151377.59        443898.53  California  191792.06\n",
       "2  153441.51       101145.55        407934.54     Florida  191050.39\n",
       "3  144372.41       118671.85        383199.62    New York  182901.99\n",
       "4  142107.34        91391.77        366168.42     Florida  166187.94"
      ]
     },
     "execution_count": 35,
     "metadata": {},
     "output_type": "execute_result"
    }
   ],
   "source": [
    "# importing the dataset\n",
    "dataset = pd.read_csv('50_Startups.csv')\n",
    "dataset.head()"
   ]
  },
  {
   "cell_type": "code",
   "execution_count": 36,
   "metadata": {},
   "outputs": [
    {
     "data": {
      "text/plain": [
       "([<matplotlib.axis.YTick at 0x7f297b8b5580>,\n",
       "  <matplotlib.axis.YTick at 0x7f297b8b5160>,\n",
       "  <matplotlib.axis.YTick at 0x7f297b91ad00>,\n",
       "  <matplotlib.axis.YTick at 0x7f297b893460>,\n",
       "  <matplotlib.axis.YTick at 0x7f297b893970>],\n",
       " [Text(0, 0, 'R&D Spend'),\n",
       "  Text(0, 0, 'Administration'),\n",
       "  Text(0, 0, 'Marketing Spend'),\n",
       "  Text(0, 0, 'State'),\n",
       "  Text(0, 0, 'Profit')])"
      ]
     },
     "execution_count": 36,
     "metadata": {},
     "output_type": "execute_result"
    },
    {
     "data": {
      "image/png": "[encoded data removed]",
      "text/plain": [
       "<Figure size 432x288 with 2 Axes>"
      ]
     },
     "metadata": {},
     "output_type": "display_data"
    }
   ],
   "source": [
    "# Here we print out a heatmap to see if we can find out any correlation between the variables in our dataset\n",
    "%matplotlib inline\n",
    "plt.imshow(dataset.corr(), cmap=plt.cm.GnBu, interpolation='nearest', data=True)\n",
    "plt.colorbar()\n",
    "tick_marks = [i for i in range(len(dataset.columns))]\n",
    "plt.xticks(tick_marks, dataset.columns, rotation=45, color = 'white')\n",
    "plt.yticks(tick_marks, dataset.columns, rotation=45, color = 'white')\n"
   ]
  },
  {
   "cell_type": "code",
   "execution_count": 37,
   "metadata": {},
   "outputs": [
    {
     "name": "stdout",
     "output_type": "stream",
     "text": [
      "+-----------+----------------+-----------------+------------+-----------+\n",
      "| R&D Spend | Administration | Marketing Spend |   State    |   Profit  |\n",
      "+-----------+----------------+-----------------+------------+-----------+\n",
      "|  165349.2 |    136897.8    |     471784.1    |  New York  | 192261.83 |\n",
      "|  162597.7 |   151377.59    |    443898.53    | California | 191792.06 |\n",
      "| 153441.51 |   101145.55    |    407934.54    |  Florida   | 191050.39 |\n",
      "| 144372.41 |   118671.85    |    383199.62    |  New York  | 182901.99 |\n",
      "| 142107.34 |    91391.77    |    366168.42    |  Florida   | 166187.94 |\n",
      "|  131876.9 |    99814.71    |    362861.36    |  New York  | 156991.12 |\n",
      "| 134615.46 |   147198.87    |    127716.82    | California | 156122.51 |\n",
      "| 130298.13 |   145530.06    |    323876.68    |  Florida   |  155752.6 |\n",
      "| 120542.52 |   148718.95    |    311613.29    |  New York  | 152211.77 |\n",
      "| 123334.88 |   108679.17    |    304981.62    | California | 149759.96 |\n",
      "| 101913.08 |   110594.11    |    229160.95    |  Florida   | 146121.95 |\n",
      "| 100671.96 |    91790.61    |    249744.55    | California |  144259.4 |\n",
      "|  93863.75 |   127320.38    |    249839.44    |  Florida   | 141585.52 |\n",
      "|  91992.39 |   135495.07    |    252664.93    | California | 134307.35 |\n",
      "| 119943.24 |   156547.42    |    256512.92    |  Florida   | 132602.65 |\n",
      "| 114523.61 |   122616.84    |    261776.23    |  New York  | 129917.04 |\n",
      "|  78013.11 |   121597.55    |    264346.06    | California | 126992.93 |\n",
      "|  94657.16 |   145077.58    |    282574.31    |  New York  | 125370.37 |\n",
      "|  91749.16 |   114175.79    |    294919.57    |  Florida   |  124266.9 |\n",
      "|  86419.7  |   153514.11    |       0.0       |  New York  | 122776.86 |\n",
      "|  76253.86 |    113867.3    |    298664.47    | California | 118474.03 |\n",
      "|  78389.47 |   153773.43    |    299737.29    |  New York  | 111313.02 |\n",
      "|  73994.56 |   122782.75    |    303319.26    |  Florida   | 110352.25 |\n",
      "|  67532.53 |   105751.03    |    304768.73    |  Florida   | 108733.99 |\n",
      "|  77044.01 |    99281.34    |    140574.81    |  New York  | 108552.04 |\n",
      "|  64664.71 |   139553.16    |    137962.62    | California | 107404.34 |\n",
      "|  75328.87 |   144135.98    |    134050.07    |  Florida   | 105733.54 |\n",
      "|  72107.6  |   127864.55    |    353183.81    |  New York  | 105008.31 |\n",
      "|  66051.52 |   182645.56    |     118148.2    |  Florida   | 103282.38 |\n",
      "|  65605.48 |   153032.06    |    107138.38    |  New York  | 101004.64 |\n",
      "|  61994.48 |   115641.28    |     91131.24    |  Florida   |  99937.59 |\n",
      "|  61136.38 |   152701.92    |     88218.23    |  New York  |  97483.56 |\n",
      "|  63408.86 |   129219.61    |     46085.25    | California |  97427.84 |\n",
      "|  55493.95 |   103057.49    |    214634.81    |  Florida   |  96778.92 |\n",
      "|  46426.07 |   157693.92    |    210797.67    | California |  96712.8  |\n",
      "|  46014.02 |    85047.44    |    205517.64    |  New York  |  96479.51 |\n",
      "|  28663.76 |   127056.21    |    201126.82    |  Florida   |  90708.19 |\n",
      "|  44069.95 |    51283.14    |    197029.42    | California |  89949.14 |\n",
      "|  20229.59 |    65947.93    |     185265.1    |  New York  |  81229.06 |\n",
      "|  38558.51 |    82982.09    |     174999.3    | California |  81005.76 |\n",
      "|  28754.33 |   118546.05    |    172795.67    | California |  78239.91 |\n",
      "|  27892.92 |    84710.77    |    164470.71    |  Florida   |  77798.83 |\n",
      "|  23640.93 |    96189.63    |    148001.11    | California |  71498.49 |\n",
      "|  15505.73 |    127382.3    |     35534.17    |  New York  |  69758.98 |\n",
      "|  22177.74 |   154806.14    |     28334.72    | California |  65200.33 |\n",
      "|  1000.23  |   124153.04    |     1903.93     |  New York  |  64926.08 |\n",
      "|  1315.46  |   115816.21    |    297114.46    |  Florida   |  49490.75 |\n",
      "|    0.0    |   135426.92    |       0.0       | California |  42559.73 |\n",
      "|   542.05  |    51743.15    |       0.0       |  New York  |  35673.41 |\n",
      "|    0.0    |    116983.8    |     45173.06    | California |  14681.4  |\n",
      "+-----------+----------------+-----------------+------------+-----------+\n"
     ]
    },
    {
     "data": {
      "text/plain": [
       "<prettytable.PrettyTable at 0x7f297b902d90>"
      ]
     },
     "execution_count": 37,
     "metadata": {},
     "output_type": "execute_result"
    }
   ],
   "source": [
    "# This method allow us to tabulate our dataset\n",
    "def generate_ascii_table(df):\n",
    "    x = PrettyTable()\n",
    "    x.field_names = df.columns.tolist()\n",
    "    for row in df.values:\n",
    "        x.add_row(row)\n",
    "    print(x)\n",
    "    return x\n",
    "\n",
    "generate_ascii_table(dataset)"
   ]
  },
  {
   "cell_type": "code",
   "execution_count": 38,
   "metadata": {},
   "outputs": [
    {
     "name": "stdout",
     "output_type": "stream",
     "text": [
      "[[165349.2 136897.8 471784.1 'New York']\n",
      " [162597.7 151377.59 443898.53 'California']\n",
      " [153441.51 101145.55 407934.54 'Florida']\n",
      " [144372.41 118671.85 383199.62 'New York']\n",
      " [142107.34 91391.77 366168.42 'Florida']\n",
      " [131876.9 99814.71 362861.36 'New York']\n",
      " [134615.46 147198.87 127716.82 'California']\n",
      " [130298.13 145530.06 323876.68 'Florida']\n",
      " [120542.52 148718.95 311613.29 'New York']\n",
      " [123334.88 108679.17 304981.62 'California']\n",
      " [101913.08 110594.11 229160.95 'Florida']\n",
      " [100671.96 91790.61 249744.55 'California']\n",
      " [93863.75 127320.38 249839.44 'Florida']\n",
      " [91992.39 135495.07 252664.93 'California']\n",
      " [119943.24 156547.42 256512.92 'Florida']\n",
      " [114523.61 122616.84 261776.23 'New York']\n",
      " [78013.11 121597.55 264346.06 'California']\n",
      " [94657.16 145077.58 282574.31 'New York']\n",
      " [91749.16 114175.79 294919.57 'Florida']\n",
      " [86419.7 153514.11 0.0 'New York']\n",
      " [76253.86 113867.3 298664.47 'California']\n",
      " [78389.47 153773.43 299737.29 'New York']\n",
      " [73994.56 122782.75 303319.26 'Florida']\n",
      " [67532.53 105751.03 304768.73 'Florida']\n",
      " [77044.01 99281.34 140574.81 'New York']\n",
      " [64664.71 139553.16 137962.62 'California']\n",
      " [75328.87 144135.98 134050.07 'Florida']\n",
      " [72107.6 127864.55 353183.81 'New York']\n",
      " [66051.52 182645.56 118148.2 'Florida']\n",
      " [65605.48 153032.06 107138.38 'New York']\n",
      " [61994.48 115641.28 91131.24 'Florida']\n",
      " [61136.38 152701.92 88218.23 'New York']\n",
      " [63408.86 129219.61 46085.25 'California']\n",
      " [55493.95 103057.49 214634.81 'Florida']\n",
      " [46426.07 157693.92 210797.67 'California']\n",
      " [46014.02 85047.44 205517.64 'New York']\n",
      " [28663.76 127056.21 201126.82 'Florida']\n",
      " [44069.95 51283.14 197029.42 'California']\n",
      " [20229.59 65947.93 185265.1 'New York']\n",
      " [38558.51 82982.09 174999.3 'California']\n",
      " [28754.33 118546.05 172795.67 'California']\n",
      " [27892.92 84710.77 164470.71 'Florida']\n",
      " [23640.93 96189.63 148001.11 'California']\n",
      " [15505.73 127382.3 35534.17 'New York']\n",
      " [22177.74 154806.14 28334.72 'California']\n",
      " [1000.23 124153.04 1903.93 'New York']\n",
      " [1315.46 115816.21 297114.46 'Florida']\n",
      " [0.0 135426.92 0.0 'California']\n",
      " [542.05 51743.15 0.0 'New York']\n",
      " [0.0 116983.8 45173.06 'California']]\n",
      "\n",
      " [192261.83 191792.06 191050.39 182901.99 166187.94 156991.12 156122.51\n",
      " 155752.6  152211.77 149759.96 146121.95 144259.4  141585.52 134307.35\n",
      " 132602.65 129917.04 126992.93 125370.37 124266.9  122776.86 118474.03\n",
      " 111313.02 110352.25 108733.99 108552.04 107404.34 105733.54 105008.31\n",
      " 103282.38 101004.64  99937.59  97483.56  97427.84  96778.92  96712.8\n",
      "  96479.51  90708.19  89949.14  81229.06  81005.76  78239.91  77798.83\n",
      "  71498.49  69758.98  65200.33  64926.08  49490.75  42559.73  35673.41\n",
      "  14681.4 ]\n"
     ]
    }
   ],
   "source": [
    "# Here we split our variables: x values by one side and y values on the other side.\n",
    "x = dataset.iloc[:,:-1].values\n",
    "y = dataset.iloc[:,-1].values\n",
    "\n",
    "print(x)\n",
    "print('\\n', y)"
   ]
  },
  {
   "cell_type": "markdown",
   "metadata": {},
   "source": [
    "### Encoding categorical data\n",
    "Once we have imported the data, we need to encode the categorical data (column \"state\"). For this task, we're going to use the One Hot Encoding technique"
   ]
  },
  {
   "cell_type": "code",
   "execution_count": 39,
   "metadata": {},
   "outputs": [],
   "source": [
    "from sklearn.compose import ColumnTransformer\n",
    "from sklearn.preprocessing import OneHotEncoder\n",
    "# In this case we are applying the CT to the column 3\n",
    "ct = ColumnTransformer(transformers=[('encoder', OneHotEncoder(), [3])], remainder='passthrough')\n",
    "x = np.array(ct.fit_transform(x))"
   ]
  },
  {
   "cell_type": "code",
   "execution_count": 40,
   "metadata": {},
   "outputs": [
    {
     "name": "stdout",
     "output_type": "stream",
     "text": [
      "[[0.0 0.0 1.0 165349.2 136897.8 471784.1]\n",
      " [1.0 0.0 0.0 162597.7 151377.59 443898.53]\n",
      " [0.0 1.0 0.0 153441.51 101145.55 407934.54]\n",
      " [0.0 0.0 1.0 144372.41 118671.85 383199.62]\n",
      " [0.0 1.0 0.0 142107.34 91391.77 366168.42]\n",
      " [0.0 0.0 1.0 131876.9 99814.71 362861.36]\n",
      " [1.0 0.0 0.0 134615.46 147198.87 127716.82]\n",
      " [0.0 1.0 0.0 130298.13 145530.06 323876.68]\n",
      " [0.0 0.0 1.0 120542.52 148718.95 311613.29]\n",
      " [1.0 0.0 0.0 123334.88 108679.17 304981.62]\n",
      " [0.0 1.0 0.0 101913.08 110594.11 229160.95]\n",
      " [1.0 0.0 0.0 100671.96 91790.61 249744.55]\n",
      " [0.0 1.0 0.0 93863.75 127320.38 249839.44]\n",
      " [1.0 0.0 0.0 91992.39 135495.07 252664.93]\n",
      " [0.0 1.0 0.0 119943.24 156547.42 256512.92]\n",
      " [0.0 0.0 1.0 114523.61 122616.84 261776.23]\n",
      " [1.0 0.0 0.0 78013.11 121597.55 264346.06]\n",
      " [0.0 0.0 1.0 94657.16 145077.58 282574.31]\n",
      " [0.0 1.0 0.0 91749.16 114175.79 294919.57]\n",
      " [0.0 0.0 1.0 86419.7 153514.11 0.0]\n",
      " [1.0 0.0 0.0 76253.86 113867.3 298664.47]\n",
      " [0.0 0.0 1.0 78389.47 153773.43 299737.29]\n",
      " [0.0 1.0 0.0 73994.56 122782.75 303319.26]\n",
      " [0.0 1.0 0.0 67532.53 105751.03 304768.73]\n",
      " [0.0 0.0 1.0 77044.01 99281.34 140574.81]\n",
      " [1.0 0.0 0.0 64664.71 139553.16 137962.62]\n",
      " [0.0 1.0 0.0 75328.87 144135.98 134050.07]\n",
      " [0.0 0.0 1.0 72107.6 127864.55 353183.81]\n",
      " [0.0 1.0 0.0 66051.52 182645.56 118148.2]\n",
      " [0.0 0.0 1.0 65605.48 153032.06 107138.38]\n",
      " [0.0 1.0 0.0 61994.48 115641.28 91131.24]\n",
      " [0.0 0.0 1.0 61136.38 152701.92 88218.23]\n",
      " [1.0 0.0 0.0 63408.86 129219.61 46085.25]\n",
      " [0.0 1.0 0.0 55493.95 103057.49 214634.81]\n",
      " [1.0 0.0 0.0 46426.07 157693.92 210797.67]\n",
      " [0.0 0.0 1.0 46014.02 85047.44 205517.64]\n",
      " [0.0 1.0 0.0 28663.76 127056.21 201126.82]\n",
      " [1.0 0.0 0.0 44069.95 51283.14 197029.42]\n",
      " [0.0 0.0 1.0 20229.59 65947.93 185265.1]\n",
      " [1.0 0.0 0.0 38558.51 82982.09 174999.3]\n",
      " [1.0 0.0 0.0 28754.33 118546.05 172795.67]\n",
      " [0.0 1.0 0.0 27892.92 84710.77 164470.71]\n",
      " [1.0 0.0 0.0 23640.93 96189.63 148001.11]\n",
      " [0.0 0.0 1.0 15505.73 127382.3 35534.17]\n",
      " [1.0 0.0 0.0 22177.74 154806.14 28334.72]\n",
      " [0.0 0.0 1.0 1000.23 124153.04 1903.93]\n",
      " [0.0 1.0 0.0 1315.46 115816.21 297114.46]\n",
      " [1.0 0.0 0.0 0.0 135426.92 0.0]\n",
      " [0.0 0.0 1.0 542.05 51743.15 0.0]\n",
      " [1.0 0.0 0.0 0.0 116983.8 45173.06]]\n"
     ]
    }
   ],
   "source": [
    "print(x)"
   ]
  },
  {
   "cell_type": "markdown",
   "metadata": {},
   "source": [
    "### splitting the data into training and test set"
   ]
  },
  {
   "cell_type": "code",
   "execution_count": 41,
   "metadata": {},
   "outputs": [],
   "source": [
    "# We don't have neither, missing data nor NaN values, therefore we're going to split our data into train and test sets.\n",
    "# first, we import the needed library\n",
    "from sklearn.model_selection import train_test_split\n",
    "# The recommended % for the training set is 80% and the remaining 20% for the test set.\n",
    "x_train, x_test, y_train, y_test = train_test_split(x, y, test_size = 0.2, random_state = 0)"
   ]
  },
  {
   "cell_type": "markdown",
   "metadata": {},
   "source": [
    "### Training the MLR model on the training set"
   ]
  },
  {
   "cell_type": "code",
   "execution_count": 42,
   "metadata": {},
   "outputs": [
    {
     "data": {
      "text/plain": [
       "LinearRegression()"
      ]
     },
     "execution_count": 42,
     "metadata": {},
     "output_type": "execute_result"
    }
   ],
   "source": [
    "# Importing the libraries\n",
    "from sklearn.linear_model import LinearRegression\n",
    "# then we create an object from LinearRegression\n",
    "regressor = LinearRegression()\n",
    "# here we fit our model\n",
    "regressor.fit(x_train, y_train)"
   ]
  },
  {
   "cell_type": "markdown",
   "metadata": {},
   "source": [
    "### Predicting the test results"
   ]
  },
  {
   "cell_type": "code",
   "execution_count": 43,
   "metadata": {},
   "outputs": [
    {
     "name": "stdout",
     "output_type": "stream",
     "text": [
      "[[103015.202 103282.38 ]\n",
      " [132582.278 144259.4  ]\n",
      " [132447.738 146121.95 ]\n",
      " [ 71976.099  77798.83 ]\n",
      " [178537.482 191050.39 ]\n",
      " [116161.242 105008.31 ]\n",
      " [ 67851.692  81229.06 ]\n",
      " [ 98791.734  97483.56 ]\n",
      " [113969.435 110352.25 ]\n",
      " [167921.066 166187.94 ]]\n"
     ]
    }
   ],
   "source": [
    "# y_pred contains the predicted values of y (y_test contains the actual values of y)\n",
    "y_pred = regressor.predict(x_test)\n",
    "# number of significative decimals\n",
    "np.set_printoptions(precision=3)\n",
    "v1 = y_pred.reshape(len(y_pred),1) # reshape is for print in a horizontal shape\n",
    "v2 = y_test.reshape(len(y_test),1)\n",
    "print(np.concatenate((v1, v2), 1))"
   ]
  },
  {
   "cell_type": "markdown",
   "metadata": {},
   "source": [
    "In the first column are the predicted values of y and in the second column are the actual values of y (profit)"
   ]
  },
  {
   "cell_type": "code",
   "execution_count": null,
   "metadata": {},
   "outputs": [],
   "source": []
  }
 ],
 "metadata": {
  "kernelspec": {
   "display_name": "Python 3",
   "language": "python",
   "name": "python3"
  },
  "language_info": {
   "codemirror_mode": {
    "name": "ipython",
    "version": 3
   },
   "file_extension": ".py",
   "mimetype": "text/x-python",
   "name": "python",
   "nbconvert_exporter": "python",
   "pygments_lexer": "ipython3",
   "version": "3.8.3"
  }
 },
 "nbformat": 4,
 "nbformat_minor": 4
}
